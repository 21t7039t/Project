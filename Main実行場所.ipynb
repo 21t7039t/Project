{
  "nbformat": 4,
  "nbformat_minor": 0,
  "metadata": {
    "colab": {
      "provenance": [],
      "mount_file_id": "1-twAxIZFZByj7ZIZvBdUnjIQyzObKxoO",
      "authorship_tag": "ABX9TyMMIvkkMNsFsM/M5AZDXWoo",
      "include_colab_link": true
    },
    "kernelspec": {
      "name": "python3",
      "display_name": "Python 3"
    },
    "language_info": {
      "name": "python"
    }
  },
  "cells": [
    {
      "cell_type": "markdown",
      "metadata": {
        "id": "view-in-github",
        "colab_type": "text"
      },
      "source": [
        "<a href=\"https://colab.research.google.com/github/21t7039t/Multi-AgentReinforcementLearning/blob/main/Main%E5%AE%9F%E8%A1%8C%E5%A0%B4%E6%89%80.ipynb\" target=\"_parent\"><img src=\"https://colab.research.google.com/assets/colab-badge.svg\" alt=\"Open In Colab\"/></a>"
      ]
    },
    {
      "cell_type": "code",
      "execution_count": null,
      "metadata": {
        "colab": {
          "base_uri": "https://localhost:8080/"
        },
        "id": "jwDOg6p5WdmY",
        "outputId": "172fa8ec-cf31-4bc9-e931-1d4e2ddf57aa"
      },
      "outputs": [
        {
          "output_type": "stream",
          "name": "stdout",
          "text": [
            "\u001b[92mDQN\u001b[0m で学習中...\n",
            "\n",
            "■■■■■■■■■■■■■■■■■■■■■■■■■■■■■■■■■■■■■■■■■■■■■■■■■■■■■■■■■■■■■■■■■■■■■■■■■■■■■■■■■■■■■■■■■■■■■■■■■■■■\n",
            "==== エピソード 1 ~ 100 の平均 step  : \u001b[92m98.87\u001b[0m\n",
            "==== エピソード 1 ~ 100 の平均 reward: \u001b[92m0.1\u001b[0m\n",
            "\n",
            "■■■■■■■■■■■■■■■■■■■■■■■■■■■■■■■■■■■■■■■■■■■■■■■■■■■■■■■■■■■■■■■■■■■■■■■■■■■■■■■■■■■■■■■■■■■■■■■■"
          ]
        }
      ],
      "source": [
        "import sys\n",
        "sys.path.append(\"/content/drive/MyDrive/Project/\")\n",
        "\n",
        "import main\n",
        "\n",
        "# %run コマンドで main.py へのフルパスを使用する\n",
        "get_ipython().run_line_magic('run', '/content/drive/MyDrive/Project/main.py --dir_path=\"/content/drive/MyDrive/Project/model_weights\" --load_model=0 --cell_num 10')"
      ]
    }
  ]
}