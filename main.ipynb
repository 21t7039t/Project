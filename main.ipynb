{
  "nbformat": 4,
  "nbformat_minor": 0,
  "metadata": {
    "colab": {
      "provenance": [],
      "authorship_tag": "ABX9TyN5Ygv0nF/iRka0yC9ZZSQS",
      "include_colab_link": true
    },
    "kernelspec": {
      "name": "python3",
      "display_name": "Python 3"
    },
    "language_info": {
      "name": "python"
    }
  },
  "cells": [
    {
      "cell_type": "markdown",
      "metadata": {
        "id": "view-in-github",
        "colab_type": "text"
      },
      "source": [
        "<a href=\"https://colab.research.google.com/github/21t7039t/Project/blob/main/main.ipynb\" target=\"_parent\"><img src=\"https://colab.research.google.com/assets/colab-badge.svg\" alt=\"Open In Colab\"/></a>"
      ]
    },
    {
      "cell_type": "code",
      "execution_count": null,
      "metadata": {
        "id": "miGPuqEeDYfj"
      },
      "outputs": [],
      "source": [
        "import sys\n",
        "sys.path.append(\"/content/drive/MyDrive/Project/\")\n",
        "\n",
        "import main\n",
        "\n",
        "# %run コマンドで main.py へのフルパスを使用する\n",
        "get_ipython().run_line_magic('run', '/content/drive/MyDrive/Project/main.py --dir_path=\"/content/drive/MyDrive/Project/model_weights\" --load_model=0 --cell_num 10')\n"
      ]
    }
  ]
}